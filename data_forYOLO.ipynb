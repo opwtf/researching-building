{
 "cells": [
  {
   "cell_type": "code",
   "execution_count": 184,
   "id": "ce863388",
   "metadata": {},
   "outputs": [],
   "source": [
    "import pandas as pd\n",
    "\n",
    "from PIL import Image\n",
    "import os\n",
    "import re\n",
    "import shutil\n",
    "from sklearn.model_selection import train_test_split\n",
    "import sklearn\n",
    "from sklearn import preprocessing"
   ]
  },
  {
   "cell_type": "code",
   "execution_count": 2,
   "id": "ea7ac628",
   "metadata": {},
   "outputs": [],
   "source": [
    "url=(r'C:\\Users\\Wdtum\\Downloads\\ofid_labels_v011\\ofid_labels_bbox_v011.csv')\n",
    "df=pd.read_csv(url)"
   ]
  },
  {
   "cell_type": "code",
   "execution_count": 3,
   "id": "bdaa0712",
   "metadata": {},
   "outputs": [],
   "source": [
    "#кодируем столбец метками \n",
    "le = preprocessing.LabelEncoder()"
   ]
  },
  {
   "cell_type": "code",
   "execution_count": 4,
   "id": "a51ee56d",
   "metadata": {},
   "outputs": [
    {
     "name": "stdout",
     "output_type": "stream",
     "text": [
      "['Albacore' 'Bigeye tuna' 'Black marlin' 'Blue marlin' 'Great barracuda'\n",
      " 'Human' 'Indo Pacific sailfish' 'Lancetfish' 'Long snouted lancetfish'\n",
      " 'Mahi mahi' 'Marlin' 'No fish' 'Oilfish' 'Opah' 'Pelagic stingray'\n",
      " 'Rainbow runner' 'Shark' 'Shortbill spearfish' 'Sickle pomfret'\n",
      " 'Skipjack tuna' 'Striped marlin' 'Swordfish' 'Thresher shark'\n",
      " 'Unknown fish' 'Wahoo' 'White margate' 'Yellowfin tuna']\n"
     ]
    }
   ],
   "source": [
    "df['label_l1' ] = le.fit_transform(df['label_l1'])\n",
    "print(le.classes_)"
   ]
  },
  {
   "cell_type": "code",
   "execution_count": 5,
   "id": "b26f6843",
   "metadata": {},
   "outputs": [
    {
     "data": {
      "text/html": [
       "<div>\n",
       "<style scoped>\n",
       "    .dataframe tbody tr th:only-of-type {\n",
       "        vertical-align: middle;\n",
       "    }\n",
       "\n",
       "    .dataframe tbody tr th {\n",
       "        vertical-align: top;\n",
       "    }\n",
       "\n",
       "    .dataframe thead th {\n",
       "        text-align: right;\n",
       "    }\n",
       "</style>\n",
       "<table border=\"1\" class=\"dataframe\">\n",
       "  <thead>\n",
       "    <tr style=\"text-align: right;\">\n",
       "      <th></th>\n",
       "      <th>img_id</th>\n",
       "      <th>bbox_id</th>\n",
       "      <th>x_min</th>\n",
       "      <th>x_max</th>\n",
       "      <th>y_min</th>\n",
       "      <th>y_max</th>\n",
       "      <th>label_l1</th>\n",
       "      <th>label_l2</th>\n",
       "    </tr>\n",
       "  </thead>\n",
       "  <tbody>\n",
       "    <tr>\n",
       "      <th>0</th>\n",
       "      <td>94a69b66-23f0-11e9-a78e-2f2b7983ac0d</td>\n",
       "      <td>1</td>\n",
       "      <td>438</td>\n",
       "      <td>529</td>\n",
       "      <td>0</td>\n",
       "      <td>132</td>\n",
       "      <td>5</td>\n",
       "      <td>HUMAN</td>\n",
       "    </tr>\n",
       "    <tr>\n",
       "      <th>1</th>\n",
       "      <td>94a6a3a4-23f0-11e9-a78f-ebd9c88ef3e8</td>\n",
       "      <td>1</td>\n",
       "      <td>433</td>\n",
       "      <td>529</td>\n",
       "      <td>0</td>\n",
       "      <td>131</td>\n",
       "      <td>5</td>\n",
       "      <td>HUMAN</td>\n",
       "    </tr>\n",
       "    <tr>\n",
       "      <th>2</th>\n",
       "      <td>94a6a430-23f0-11e9-a790-2b5f72f1667a</td>\n",
       "      <td>1</td>\n",
       "      <td>440</td>\n",
       "      <td>529</td>\n",
       "      <td>0</td>\n",
       "      <td>132</td>\n",
       "      <td>5</td>\n",
       "      <td>HUMAN</td>\n",
       "    </tr>\n",
       "    <tr>\n",
       "      <th>3</th>\n",
       "      <td>94a6a48a-23f0-11e9-a791-fb958b6ab6b3</td>\n",
       "      <td>1</td>\n",
       "      <td>452</td>\n",
       "      <td>550</td>\n",
       "      <td>0</td>\n",
       "      <td>154</td>\n",
       "      <td>5</td>\n",
       "      <td>HUMAN</td>\n",
       "    </tr>\n",
       "    <tr>\n",
       "      <th>4</th>\n",
       "      <td>94a6a4da-23f0-11e9-a792-f320b734bd9b</td>\n",
       "      <td>1</td>\n",
       "      <td>462</td>\n",
       "      <td>550</td>\n",
       "      <td>0</td>\n",
       "      <td>153</td>\n",
       "      <td>5</td>\n",
       "      <td>HUMAN</td>\n",
       "    </tr>\n",
       "  </tbody>\n",
       "</table>\n",
       "</div>"
      ],
      "text/plain": [
       "                                 img_id  bbox_id  x_min  x_max  y_min  y_max  \\\n",
       "0  94a69b66-23f0-11e9-a78e-2f2b7983ac0d        1    438    529      0    132   \n",
       "1  94a6a3a4-23f0-11e9-a78f-ebd9c88ef3e8        1    433    529      0    131   \n",
       "2  94a6a430-23f0-11e9-a790-2b5f72f1667a        1    440    529      0    132   \n",
       "3  94a6a48a-23f0-11e9-a791-fb958b6ab6b3        1    452    550      0    154   \n",
       "4  94a6a4da-23f0-11e9-a792-f320b734bd9b        1    462    550      0    153   \n",
       "\n",
       "   label_l1 label_l2  \n",
       "0         5    HUMAN  \n",
       "1         5    HUMAN  \n",
       "2         5    HUMAN  \n",
       "3         5    HUMAN  \n",
       "4         5    HUMAN  "
      ]
     },
     "execution_count": 5,
     "metadata": {},
     "output_type": "execute_result"
    }
   ],
   "source": [
    "df.head()"
   ]
  },
  {
   "cell_type": "code",
   "execution_count": 38,
   "id": "964ea6e6",
   "metadata": {},
   "outputs": [],
   "source": [
    "import os\n",
    "image_folder=r'C:\\Users\\Wdtum\\Downloads\\foid_images_v012\\images'"
   ]
  },
  {
   "cell_type": "code",
   "execution_count": 39,
   "id": "9c1340e6",
   "metadata": {},
   "outputs": [
    {
     "data": {
      "text/plain": [
       "34987"
      ]
     },
     "execution_count": 39,
     "metadata": {},
     "output_type": "execute_result"
    }
   ],
   "source": [
    "#получаем список всех файлов\n",
    "image_files=os.listdir(image_folder)\n",
    "len(image_files)"
   ]
  },
  {
   "cell_type": "code",
   "execution_count": 35,
   "id": "9d05adb5",
   "metadata": {},
   "outputs": [
    {
     "data": {
      "text/plain": [
       "['94a69b66-23f0-11e9-a78e-2f2b7983ac0d.jpg',\n",
       " '94a6a3a4-23f0-11e9-a78f-ebd9c88ef3e8.jpg',\n",
       " '94a6a430-23f0-11e9-a790-2b5f72f1667a.jpg',\n",
       " '94a6a48a-23f0-11e9-a791-fb958b6ab6b3.jpg',\n",
       " '94a6a4da-23f0-11e9-a792-f320b734bd9b.jpg',\n",
       " '94a6a534-23f0-11e9-a793-c7e8fecc9fa8.jpg',\n",
       " '94a6a584-23f0-11e9-a794-0fe64977c9b7.jpg',\n",
       " '94a6a5de-23f0-11e9-a795-6b168e42914e.jpg',\n",
       " '94a6a62e-23f0-11e9-a796-f783fa7ee4cf.jpg',\n",
       " '94a6a688-23f0-11e9-a797-9371b85a8f67.jpg']"
      ]
     },
     "execution_count": 35,
     "metadata": {},
     "output_type": "execute_result"
    }
   ],
   "source": [
    "image[0:10]"
   ]
  },
  {
   "cell_type": "code",
   "execution_count": 45,
   "id": "cadcce2b",
   "metadata": {},
   "outputs": [],
   "source": [
    "#получаем информацию об изображениях\n",
    "image_info=[]\n",
    "for image_file in image_files:\n",
    "    image_path=os.path.join(image_folder,image_file)\n",
    "    with Image.open(image_path) as img:\n",
    "        width,height=img.size\n",
    "        image_info.append([image_file.replace('.jpg',''),width,height])"
   ]
  },
  {
   "cell_type": "code",
   "execution_count": 54,
   "id": "8c016d34",
   "metadata": {},
   "outputs": [],
   "source": [
    "#создаем новый датасет с информацией об изображениях\n",
    "columns=['img_id','width_img','height_img']\n",
    "dataset_image=pd.DataFrame(image_info,columns=columns)"
   ]
  },
  {
   "cell_type": "code",
   "execution_count": 55,
   "id": "b2159f75",
   "metadata": {},
   "outputs": [],
   "source": [
    "#сохраняем его\n",
    "dataset_image.to_csv('info_image.csv',index=False)"
   ]
  },
  {
   "cell_type": "code",
   "execution_count": 56,
   "id": "4f4aded7",
   "metadata": {},
   "outputs": [
    {
     "name": "stdout",
     "output_type": "stream",
     "text": [
      "<class 'pandas.core.frame.DataFrame'>\n",
      "RangeIndex: 34987 entries, 0 to 34986\n",
      "Data columns (total 3 columns):\n",
      " #   Column      Non-Null Count  Dtype \n",
      "---  ------      --------------  ----- \n",
      " 0   img_id      34987 non-null  object\n",
      " 1   width_img   34987 non-null  int64 \n",
      " 2   height_img  34987 non-null  int64 \n",
      "dtypes: int64(2), object(1)\n",
      "memory usage: 820.1+ KB\n"
     ]
    }
   ],
   "source": [
    "dataset_image.info()"
   ]
  },
  {
   "cell_type": "code",
   "execution_count": 58,
   "id": "62f60d12",
   "metadata": {},
   "outputs": [
    {
     "name": "stdout",
     "output_type": "stream",
     "text": [
      "[1280 1200 1208 1334 1192 1518 1276 1520 1224 1244 1156 1732]\n",
      "[720 675 755 750 670 974 854 718 723 859 979 700 650 924]\n"
     ]
    }
   ],
   "source": [
    "#проверка размеров изображений(вдруг они были все одного размера)\n",
    "print(dataset_image['width_img'].unique())\n",
    "print(dataset_image['height_img'].unique())"
   ]
  },
  {
   "cell_type": "code",
   "execution_count": 61,
   "id": "d87c60bb",
   "metadata": {},
   "outputs": [
    {
     "data": {
      "text/html": [
       "<div>\n",
       "<style scoped>\n",
       "    .dataframe tbody tr th:only-of-type {\n",
       "        vertical-align: middle;\n",
       "    }\n",
       "\n",
       "    .dataframe tbody tr th {\n",
       "        vertical-align: top;\n",
       "    }\n",
       "\n",
       "    .dataframe thead th {\n",
       "        text-align: right;\n",
       "    }\n",
       "</style>\n",
       "<table border=\"1\" class=\"dataframe\">\n",
       "  <thead>\n",
       "    <tr style=\"text-align: right;\">\n",
       "      <th></th>\n",
       "      <th>img_id</th>\n",
       "      <th>bbox_id</th>\n",
       "      <th>x_min</th>\n",
       "      <th>x_max</th>\n",
       "      <th>y_min</th>\n",
       "      <th>y_max</th>\n",
       "      <th>label_l1</th>\n",
       "      <th>label_l2</th>\n",
       "      <th>width_img</th>\n",
       "      <th>height_img</th>\n",
       "    </tr>\n",
       "  </thead>\n",
       "  <tbody>\n",
       "    <tr>\n",
       "      <th>0</th>\n",
       "      <td>94a69b66-23f0-11e9-a78e-2f2b7983ac0d</td>\n",
       "      <td>1</td>\n",
       "      <td>438</td>\n",
       "      <td>529</td>\n",
       "      <td>0</td>\n",
       "      <td>132</td>\n",
       "      <td>5</td>\n",
       "      <td>HUMAN</td>\n",
       "      <td>1280</td>\n",
       "      <td>720</td>\n",
       "    </tr>\n",
       "    <tr>\n",
       "      <th>1</th>\n",
       "      <td>94a6a3a4-23f0-11e9-a78f-ebd9c88ef3e8</td>\n",
       "      <td>1</td>\n",
       "      <td>433</td>\n",
       "      <td>529</td>\n",
       "      <td>0</td>\n",
       "      <td>131</td>\n",
       "      <td>5</td>\n",
       "      <td>HUMAN</td>\n",
       "      <td>1280</td>\n",
       "      <td>720</td>\n",
       "    </tr>\n",
       "    <tr>\n",
       "      <th>2</th>\n",
       "      <td>94a6a430-23f0-11e9-a790-2b5f72f1667a</td>\n",
       "      <td>1</td>\n",
       "      <td>440</td>\n",
       "      <td>529</td>\n",
       "      <td>0</td>\n",
       "      <td>132</td>\n",
       "      <td>5</td>\n",
       "      <td>HUMAN</td>\n",
       "      <td>1280</td>\n",
       "      <td>720</td>\n",
       "    </tr>\n",
       "    <tr>\n",
       "      <th>3</th>\n",
       "      <td>94a6a48a-23f0-11e9-a791-fb958b6ab6b3</td>\n",
       "      <td>1</td>\n",
       "      <td>452</td>\n",
       "      <td>550</td>\n",
       "      <td>0</td>\n",
       "      <td>154</td>\n",
       "      <td>5</td>\n",
       "      <td>HUMAN</td>\n",
       "      <td>1280</td>\n",
       "      <td>720</td>\n",
       "    </tr>\n",
       "    <tr>\n",
       "      <th>4</th>\n",
       "      <td>94a6a4da-23f0-11e9-a792-f320b734bd9b</td>\n",
       "      <td>1</td>\n",
       "      <td>462</td>\n",
       "      <td>550</td>\n",
       "      <td>0</td>\n",
       "      <td>153</td>\n",
       "      <td>5</td>\n",
       "      <td>HUMAN</td>\n",
       "      <td>1280</td>\n",
       "      <td>720</td>\n",
       "    </tr>\n",
       "  </tbody>\n",
       "</table>\n",
       "</div>"
      ],
      "text/plain": [
       "                                 img_id  bbox_id  x_min  x_max  y_min  y_max  \\\n",
       "0  94a69b66-23f0-11e9-a78e-2f2b7983ac0d        1    438    529      0    132   \n",
       "1  94a6a3a4-23f0-11e9-a78f-ebd9c88ef3e8        1    433    529      0    131   \n",
       "2  94a6a430-23f0-11e9-a790-2b5f72f1667a        1    440    529      0    132   \n",
       "3  94a6a48a-23f0-11e9-a791-fb958b6ab6b3        1    452    550      0    154   \n",
       "4  94a6a4da-23f0-11e9-a792-f320b734bd9b        1    462    550      0    153   \n",
       "\n",
       "   label_l1 label_l2  width_img  height_img  \n",
       "0         5    HUMAN       1280         720  \n",
       "1         5    HUMAN       1280         720  \n",
       "2         5    HUMAN       1280         720  \n",
       "3         5    HUMAN       1280         720  \n",
       "4         5    HUMAN       1280         720  "
      ]
     },
     "execution_count": 61,
     "metadata": {},
     "output_type": "execute_result"
    }
   ],
   "source": [
    "#совмещаем два датасета\n",
    "res_data=df.merge(dataset_image,on=['img_id'])\n",
    "res_data.head()"
   ]
  },
  {
   "cell_type": "code",
   "execution_count": 62,
   "id": "54cb807b",
   "metadata": {},
   "outputs": [
    {
     "name": "stdout",
     "output_type": "stream",
     "text": [
      "<class 'pandas.core.frame.DataFrame'>\n",
      "Int64Index: 162804 entries, 0 to 162803\n",
      "Data columns (total 10 columns):\n",
      " #   Column      Non-Null Count   Dtype \n",
      "---  ------      --------------   ----- \n",
      " 0   img_id      162804 non-null  object\n",
      " 1   bbox_id     162804 non-null  int64 \n",
      " 2   x_min       162804 non-null  int64 \n",
      " 3   x_max       162804 non-null  int64 \n",
      " 4   y_min       162804 non-null  int64 \n",
      " 5   y_max       162804 non-null  int64 \n",
      " 6   label_l1    162804 non-null  int32 \n",
      " 7   label_l2    162804 non-null  object\n",
      " 8   width_img   162804 non-null  int64 \n",
      " 9   height_img  162804 non-null  int64 \n",
      "dtypes: int32(1), int64(7), object(2)\n",
      "memory usage: 13.0+ MB\n"
     ]
    }
   ],
   "source": [
    "res_data.info()"
   ]
  },
  {
   "cell_type": "code",
   "execution_count": 149,
   "id": "df6158da",
   "metadata": {},
   "outputs": [
    {
     "data": {
      "text/html": [
       "<div>\n",
       "<style scoped>\n",
       "    .dataframe tbody tr th:only-of-type {\n",
       "        vertical-align: middle;\n",
       "    }\n",
       "\n",
       "    .dataframe tbody tr th {\n",
       "        vertical-align: top;\n",
       "    }\n",
       "\n",
       "    .dataframe thead th {\n",
       "        text-align: right;\n",
       "    }\n",
       "</style>\n",
       "<table border=\"1\" class=\"dataframe\">\n",
       "  <thead>\n",
       "    <tr style=\"text-align: right;\">\n",
       "      <th></th>\n",
       "      <th>img_id</th>\n",
       "      <th>class</th>\n",
       "      <th>x_center</th>\n",
       "      <th>y_center</th>\n",
       "      <th>width</th>\n",
       "      <th>height</th>\n",
       "    </tr>\n",
       "  </thead>\n",
       "  <tbody>\n",
       "  </tbody>\n",
       "</table>\n",
       "</div>"
      ],
      "text/plain": [
       "Empty DataFrame\n",
       "Columns: [img_id, class, x_center, y_center, width, height]\n",
       "Index: []"
      ]
     },
     "execution_count": 149,
     "metadata": {},
     "output_type": "execute_result"
    }
   ],
   "source": [
    "#создание датасета для обучения модели\n",
    "data=pd.DataFrame(columns=['img_id','class','x_center','y_center','width','height'])\n",
    "data.head()"
   ]
  },
  {
   "cell_type": "code",
   "execution_count": 150,
   "id": "28de7c58",
   "metadata": {},
   "outputs": [],
   "source": [
    "#вычисляем данные о центрах рамки и ее габаритах\n",
    "data['width']=res_data['x_max']-res_data['x_min']\n",
    "data['height']=res_data['y_max']-res_data['y_min']\n",
    "data['x_center']=res_data['x_min']+ data['width']/2\n",
    "data['y_center']=res_data['y_min']+ data['height']/2\n",
    "data['class']=res_data['label_l1']\n",
    "data['img_id']=res_data['img_id']"
   ]
  },
  {
   "cell_type": "code",
   "execution_count": 151,
   "id": "4d033461",
   "metadata": {},
   "outputs": [
    {
     "data": {
      "text/html": [
       "<div>\n",
       "<style scoped>\n",
       "    .dataframe tbody tr th:only-of-type {\n",
       "        vertical-align: middle;\n",
       "    }\n",
       "\n",
       "    .dataframe tbody tr th {\n",
       "        vertical-align: top;\n",
       "    }\n",
       "\n",
       "    .dataframe thead th {\n",
       "        text-align: right;\n",
       "    }\n",
       "</style>\n",
       "<table border=\"1\" class=\"dataframe\">\n",
       "  <thead>\n",
       "    <tr style=\"text-align: right;\">\n",
       "      <th></th>\n",
       "      <th>img_id</th>\n",
       "      <th>class</th>\n",
       "      <th>x_center</th>\n",
       "      <th>y_center</th>\n",
       "      <th>width</th>\n",
       "      <th>height</th>\n",
       "    </tr>\n",
       "  </thead>\n",
       "  <tbody>\n",
       "    <tr>\n",
       "      <th>0</th>\n",
       "      <td>94a69b66-23f0-11e9-a78e-2f2b7983ac0d</td>\n",
       "      <td>5</td>\n",
       "      <td>483.5</td>\n",
       "      <td>66.0</td>\n",
       "      <td>91</td>\n",
       "      <td>132</td>\n",
       "    </tr>\n",
       "    <tr>\n",
       "      <th>1</th>\n",
       "      <td>94a6a3a4-23f0-11e9-a78f-ebd9c88ef3e8</td>\n",
       "      <td>5</td>\n",
       "      <td>481.0</td>\n",
       "      <td>65.5</td>\n",
       "      <td>96</td>\n",
       "      <td>131</td>\n",
       "    </tr>\n",
       "    <tr>\n",
       "      <th>2</th>\n",
       "      <td>94a6a430-23f0-11e9-a790-2b5f72f1667a</td>\n",
       "      <td>5</td>\n",
       "      <td>484.5</td>\n",
       "      <td>66.0</td>\n",
       "      <td>89</td>\n",
       "      <td>132</td>\n",
       "    </tr>\n",
       "    <tr>\n",
       "      <th>3</th>\n",
       "      <td>94a6a48a-23f0-11e9-a791-fb958b6ab6b3</td>\n",
       "      <td>5</td>\n",
       "      <td>501.0</td>\n",
       "      <td>77.0</td>\n",
       "      <td>98</td>\n",
       "      <td>154</td>\n",
       "    </tr>\n",
       "    <tr>\n",
       "      <th>4</th>\n",
       "      <td>94a6a4da-23f0-11e9-a792-f320b734bd9b</td>\n",
       "      <td>5</td>\n",
       "      <td>506.0</td>\n",
       "      <td>76.5</td>\n",
       "      <td>88</td>\n",
       "      <td>153</td>\n",
       "    </tr>\n",
       "    <tr>\n",
       "      <th>5</th>\n",
       "      <td>94a6a534-23f0-11e9-a793-c7e8fecc9fa8</td>\n",
       "      <td>5</td>\n",
       "      <td>463.5</td>\n",
       "      <td>92.0</td>\n",
       "      <td>135</td>\n",
       "      <td>162</td>\n",
       "    </tr>\n",
       "    <tr>\n",
       "      <th>6</th>\n",
       "      <td>94a6a534-23f0-11e9-a793-c7e8fecc9fa8</td>\n",
       "      <td>5</td>\n",
       "      <td>225.0</td>\n",
       "      <td>392.0</td>\n",
       "      <td>222</td>\n",
       "      <td>132</td>\n",
       "    </tr>\n",
       "    <tr>\n",
       "      <th>7</th>\n",
       "      <td>94a6a584-23f0-11e9-a794-0fe64977c9b7</td>\n",
       "      <td>5</td>\n",
       "      <td>227.5</td>\n",
       "      <td>391.5</td>\n",
       "      <td>247</td>\n",
       "      <td>137</td>\n",
       "    </tr>\n",
       "    <tr>\n",
       "      <th>8</th>\n",
       "      <td>94a6a584-23f0-11e9-a794-0fe64977c9b7</td>\n",
       "      <td>5</td>\n",
       "      <td>462.0</td>\n",
       "      <td>91.0</td>\n",
       "      <td>138</td>\n",
       "      <td>160</td>\n",
       "    </tr>\n",
       "    <tr>\n",
       "      <th>9</th>\n",
       "      <td>94a6a5de-23f0-11e9-a795-6b168e42914e</td>\n",
       "      <td>5</td>\n",
       "      <td>464.0</td>\n",
       "      <td>92.5</td>\n",
       "      <td>136</td>\n",
       "      <td>161</td>\n",
       "    </tr>\n",
       "  </tbody>\n",
       "</table>\n",
       "</div>"
      ],
      "text/plain": [
       "                                 img_id  class  x_center  y_center  width  \\\n",
       "0  94a69b66-23f0-11e9-a78e-2f2b7983ac0d      5     483.5      66.0     91   \n",
       "1  94a6a3a4-23f0-11e9-a78f-ebd9c88ef3e8      5     481.0      65.5     96   \n",
       "2  94a6a430-23f0-11e9-a790-2b5f72f1667a      5     484.5      66.0     89   \n",
       "3  94a6a48a-23f0-11e9-a791-fb958b6ab6b3      5     501.0      77.0     98   \n",
       "4  94a6a4da-23f0-11e9-a792-f320b734bd9b      5     506.0      76.5     88   \n",
       "5  94a6a534-23f0-11e9-a793-c7e8fecc9fa8      5     463.5      92.0    135   \n",
       "6  94a6a534-23f0-11e9-a793-c7e8fecc9fa8      5     225.0     392.0    222   \n",
       "7  94a6a584-23f0-11e9-a794-0fe64977c9b7      5     227.5     391.5    247   \n",
       "8  94a6a584-23f0-11e9-a794-0fe64977c9b7      5     462.0      91.0    138   \n",
       "9  94a6a5de-23f0-11e9-a795-6b168e42914e      5     464.0      92.5    136   \n",
       "\n",
       "   height  \n",
       "0     132  \n",
       "1     131  \n",
       "2     132  \n",
       "3     154  \n",
       "4     153  \n",
       "5     162  \n",
       "6     132  \n",
       "7     137  \n",
       "8     160  \n",
       "9     161  "
      ]
     },
     "execution_count": 151,
     "metadata": {},
     "output_type": "execute_result"
    }
   ],
   "source": [
    "data.head(10)"
   ]
  },
  {
   "cell_type": "code",
   "execution_count": 152,
   "id": "f7348743",
   "metadata": {},
   "outputs": [],
   "source": [
    "#нормализуем данные\n",
    "data['width']= data['width']/res_data['width_img']\n",
    "data['height']= data['height']/res_data['height_img']\n",
    "data['x_center']=data['x_center']/res_data['width_img'] \n",
    "data['y_center']=data['y_center']/res_data['height_img'] \n",
    " "
   ]
  },
  {
   "cell_type": "code",
   "execution_count": 73,
   "id": "6af21eff",
   "metadata": {},
   "outputs": [
    {
     "data": {
      "text/html": [
       "<div>\n",
       "<style scoped>\n",
       "    .dataframe tbody tr th:only-of-type {\n",
       "        vertical-align: middle;\n",
       "    }\n",
       "\n",
       "    .dataframe tbody tr th {\n",
       "        vertical-align: top;\n",
       "    }\n",
       "\n",
       "    .dataframe thead th {\n",
       "        text-align: right;\n",
       "    }\n",
       "</style>\n",
       "<table border=\"1\" class=\"dataframe\">\n",
       "  <thead>\n",
       "    <tr style=\"text-align: right;\">\n",
       "      <th></th>\n",
       "      <th>img_id</th>\n",
       "      <th>class</th>\n",
       "      <th>x_center</th>\n",
       "      <th>y_center</th>\n",
       "      <th>width</th>\n",
       "      <th>height</th>\n",
       "    </tr>\n",
       "  </thead>\n",
       "  <tbody>\n",
       "    <tr>\n",
       "      <th>0</th>\n",
       "      <td>94a69b66-23f0-11e9-a78e-2f2b7983ac0d</td>\n",
       "      <td>5</td>\n",
       "      <td>0.377734</td>\n",
       "      <td>0.091667</td>\n",
       "      <td>0.071094</td>\n",
       "      <td>0.183333</td>\n",
       "    </tr>\n",
       "    <tr>\n",
       "      <th>1</th>\n",
       "      <td>94a6a3a4-23f0-11e9-a78f-ebd9c88ef3e8</td>\n",
       "      <td>5</td>\n",
       "      <td>0.375781</td>\n",
       "      <td>0.090972</td>\n",
       "      <td>0.075000</td>\n",
       "      <td>0.181944</td>\n",
       "    </tr>\n",
       "    <tr>\n",
       "      <th>2</th>\n",
       "      <td>94a6a430-23f0-11e9-a790-2b5f72f1667a</td>\n",
       "      <td>5</td>\n",
       "      <td>0.378516</td>\n",
       "      <td>0.091667</td>\n",
       "      <td>0.069531</td>\n",
       "      <td>0.183333</td>\n",
       "    </tr>\n",
       "    <tr>\n",
       "      <th>3</th>\n",
       "      <td>94a6a48a-23f0-11e9-a791-fb958b6ab6b3</td>\n",
       "      <td>5</td>\n",
       "      <td>0.391406</td>\n",
       "      <td>0.106944</td>\n",
       "      <td>0.076563</td>\n",
       "      <td>0.213889</td>\n",
       "    </tr>\n",
       "    <tr>\n",
       "      <th>4</th>\n",
       "      <td>94a6a4da-23f0-11e9-a792-f320b734bd9b</td>\n",
       "      <td>5</td>\n",
       "      <td>0.395313</td>\n",
       "      <td>0.106250</td>\n",
       "      <td>0.068750</td>\n",
       "      <td>0.212500</td>\n",
       "    </tr>\n",
       "  </tbody>\n",
       "</table>\n",
       "</div>"
      ],
      "text/plain": [
       "                                 img_id  class  x_center  y_center     width  \\\n",
       "0  94a69b66-23f0-11e9-a78e-2f2b7983ac0d      5  0.377734  0.091667  0.071094   \n",
       "1  94a6a3a4-23f0-11e9-a78f-ebd9c88ef3e8      5  0.375781  0.090972  0.075000   \n",
       "2  94a6a430-23f0-11e9-a790-2b5f72f1667a      5  0.378516  0.091667  0.069531   \n",
       "3  94a6a48a-23f0-11e9-a791-fb958b6ab6b3      5  0.391406  0.106944  0.076563   \n",
       "4  94a6a4da-23f0-11e9-a792-f320b734bd9b      5  0.395313  0.106250  0.068750   \n",
       "\n",
       "     height  \n",
       "0  0.183333  \n",
       "1  0.181944  \n",
       "2  0.183333  \n",
       "3  0.213889  \n",
       "4  0.212500  "
      ]
     },
     "execution_count": 73,
     "metadata": {},
     "output_type": "execute_result"
    }
   ],
   "source": [
    " data.head()"
   ]
  },
  {
   "cell_type": "code",
   "execution_count": 176,
   "id": "7f74606d",
   "metadata": {},
   "outputs": [],
   "source": [
    "#создаем для каждого изображения одноименный файл с информацией об объектах, которые там находятся\n",
    "direct=r'C:\\Users\\Wdtum\\OneDrive\\Рабочий стол\\lables'\n",
    "REPLACE_BY_SPACE_RE=re.compile('[/(){}\\[\\]\\|@,;]')\n",
    "for image_file in image_files:\n",
    "    image_file=image_file.replace('.jpg','')\n",
    "    file=open(os.path.join(direct,f'{image_file}.txt'),'w')\n",
    "    rem=str(data.loc[data['img_id'] == image_file.replace('.jpg',''),['class','x_center','y_center','width','height']].values)\n",
    "    rem=re.sub(image_file.replace('.jpg',''),'',rem)\n",
    "    REPLACE_BY_SPACE_RE.sub(' ',rem)\n",
    "    file.write(REPLACE_BY_SPACE_RE.sub(' ',rem))\n",
    "    file.close()"
   ]
  },
  {
   "cell_type": "code",
   "execution_count": 177,
   "id": "9404e5e4",
   "metadata": {},
   "outputs": [
    {
     "data": {
      "text/plain": [
       "34987"
      ]
     },
     "execution_count": 177,
     "metadata": {},
     "output_type": "execute_result"
    }
   ],
   "source": [
    "#проверям размерность\n",
    "lables=os.listdir(direct)\n",
    "len(lables)"
   ]
  },
  {
   "cell_type": "code",
   "execution_count": 179,
   "id": "cca981c4",
   "metadata": {},
   "outputs": [],
   "source": [
    "#создаем папки для деления данных на тестовую и тренировочную выборку\n",
    "# Путь к папке с данными\n",
    "data_folder = r\"C:\\Users\\Wdtum\\Downloads\\foid_images_v012\\images\"\"\"\n",
    "\n",
    "# Путь к папке с метками\n",
    "labels_folder = r\"C:\\Users\\Wdtum\\OneDrive\\Рабочий стол\\lables\"\n",
    "\n",
    "# Путь к папке тренировочных данных\n",
    "train_data_folder = r\"C:\\Users\\Wdtum\\OneDrive\\Рабочий стол\\data_yolo\\train_data_folder\"\n",
    "\n",
    "# Путь к папке тренировочных меток\n",
    "train_labels_folder = r\"C:\\Users\\Wdtum\\OneDrive\\Рабочий стол\\data_yolo\\train_labels_folder\"\n",
    "\n",
    "# Путь к папке тестовых данных\n",
    "test_data_folder = r\"C:\\Users\\Wdtum\\OneDrive\\Рабочий стол\\data_yolo\\test_data_folder\"\n",
    "\n",
    "# Путь к папке тестовых меток\n",
    "test_labels_folder = r\"C:\\Users\\Wdtum\\OneDrive\\Рабочий стол\\data_yolo\\test_labels_folder\""
   ]
  },
  {
   "cell_type": "code",
   "execution_count": 181,
   "id": "a266a578",
   "metadata": {},
   "outputs": [],
   "source": [
    "#проверка созданы папки или нет\n",
    "os.makedirs(train_data_folder, exist_ok=True)\n",
    "os.makedirs(train_labels_folder, exist_ok=True)\n",
    "os.makedirs(test_data_folder, exist_ok=True)\n",
    "os.makedirs(test_labels_folder, exist_ok=True)"
   ]
  },
  {
   "cell_type": "code",
   "execution_count": 182,
   "id": "08aa97af",
   "metadata": {},
   "outputs": [],
   "source": [
    "# Получение списка имен файлов из папки с данными\n",
    "data_files = os.listdir(data_folder)\n",
    "\n",
    "# Получение списка имен файлов из папки с метками\n",
    "labels_files = os.listdir(labels_folder)"
   ]
  },
  {
   "cell_type": "code",
   "execution_count": 185,
   "id": "83a36cea",
   "metadata": {},
   "outputs": [],
   "source": [
    "# Разделение файлов на тренировочные и тестовые выборки\n",
    "train_data, test_data, train_labels, test_labels = train_test_split(\n",
    "    data_files, labels_files, test_size=0.2, random_state=42\n",
    ")"
   ]
  },
  {
   "cell_type": "code",
   "execution_count": 186,
   "id": "141bcc43",
   "metadata": {},
   "outputs": [],
   "source": [
    "# Копирование тренировочных данных и меток в соответствующие папки\n",
    "for filename in train_data:\n",
    "    shutil.copy(os.path.join(data_folder, filename), os.path.join(train_data_folder, filename))\n",
    "for filename in train_labels:\n",
    "    shutil.copy(os.path.join(labels_folder, filename), os.path.join(train_labels_folder, filename))\n",
    "\n",
    " "
   ]
  },
  {
   "cell_type": "code",
   "execution_count": 187,
   "id": "6b97b436",
   "metadata": {},
   "outputs": [],
   "source": [
    "# Копирование тестовых данных и меток в соответствующие папки\n",
    "for filename in test_data:\n",
    "    shutil.copy(os.path.join(data_folder, filename), os.path.join(test_data_folder, filename))\n",
    "for filename in test_labels:\n",
    "    shutil.copy(os.path.join(labels_folder, filename), os.path.join(test_labels_folder, filename))"
   ]
  },
  {
   "cell_type": "code",
   "execution_count": 188,
   "id": "9c9d4a45",
   "metadata": {},
   "outputs": [
    {
     "name": "stdout",
     "output_type": "stream",
     "text": [
      "Collecting PyYAML==5.1\n",
      "  Downloading PyYAML-5.1.tar.gz (274 kB)\n",
      "     -------------------------------------- 274.2/274.2 kB 1.7 MB/s eta 0:00:00\n",
      "  Preparing metadata (setup.py): started\n",
      "  Preparing metadata (setup.py): finished with status 'done'\n",
      "Building wheels for collected packages: PyYAML\n",
      "  Building wheel for PyYAML (setup.py): started\n",
      "  Building wheel for PyYAML (setup.py): finished with status 'done'\n",
      "  Created wheel for PyYAML: filename=PyYAML-5.1-cp39-cp39-win_amd64.whl size=44085 sha256=1a3550313be87c22ebf3cadb6c9c3b4ceb617dafed66f78be5e9e1e6b20c83ad\n",
      "  Stored in directory: c:\\users\\wdtum\\appdata\\local\\pip\\cache\\wheels\\68\\be\\8f\\b6c454cd264e0b349b47f8ee00755511f277618af9e5dae20d\n",
      "Successfully built PyYAML\n",
      "Installing collected packages: PyYAML\n",
      "  Attempting uninstall: PyYAML\n",
      "    Found existing installation: PyYAML 6.0\n",
      "    Uninstalling PyYAML-6.0:\n",
      "      Successfully uninstalled PyYAML-6.0\n",
      "Successfully installed PyYAML-5.1\n",
      "Note: you may need to restart the kernel to use updated packages.\n"
     ]
    },
    {
     "name": "stderr",
     "output_type": "stream",
     "text": [
      "WARNING: Ignoring invalid distribution -rotobuf (c:\\users\\wdtum\\anaconda3\\lib\\site-packages)\n",
      "WARNING: Ignoring invalid distribution -rotobuf (c:\\users\\wdtum\\anaconda3\\lib\\site-packages)\n",
      "WARNING: Ignoring invalid distribution -rotobuf (c:\\users\\wdtum\\anaconda3\\lib\\site-packages)\n",
      "    WARNING: Ignoring invalid distribution -rotobuf (c:\\users\\wdtum\\anaconda3\\lib\\site-packages)\n",
      "WARNING: Ignoring invalid distribution -rotobuf (c:\\users\\wdtum\\anaconda3\\lib\\site-packages)\n",
      "ERROR: pip's dependency resolver does not currently take into account all the packages that are installed. This behaviour is the source of the following dependency conflicts.\n",
      "ultralytics 8.0.171 requires pyyaml>=5.3.1, but you have pyyaml 5.1 which is incompatible.\n",
      "pandas-profiling 3.5.0 requires numpy<1.24,>=1.16.0, but you have numpy 1.24.4 which is incompatible.\n",
      "dask 2022.7.0 requires pyyaml>=5.3.1, but you have pyyaml 5.1 which is incompatible.\n",
      "conda-repo-cli 1.0.20 requires clyent==1.2.1, but you have clyent 1.2.2 which is incompatible.\n",
      "conda-repo-cli 1.0.20 requires nbformat==5.4.0, but you have nbformat 5.5.0 which is incompatible.\n",
      "conda-repo-cli 1.0.20 requires PyYAML==6.0, but you have pyyaml 5.1 which is incompatible.\n",
      "WARNING: Ignoring invalid distribution -rotobuf (c:\\users\\wdtum\\anaconda3\\lib\\site-packages)\n",
      "WARNING: Ignoring invalid distribution -rotobuf (c:\\users\\wdtum\\anaconda3\\lib\\site-packages)\n",
      "WARNING: Ignoring invalid distribution -rotobuf (c:\\users\\wdtum\\anaconda3\\lib\\site-packages)\n"
     ]
    }
   ],
   "source": [
    "%pip install PyYAML==5.1"
   ]
  },
  {
   "cell_type": "code",
   "execution_count": 189,
   "id": "45dacb12",
   "metadata": {},
   "outputs": [],
   "source": [
    "import yaml"
   ]
  },
  {
   "cell_type": "code",
   "execution_count": 193,
   "id": "e6d08f7b",
   "metadata": {},
   "outputs": [],
   "source": [
    "#создаем yaml файл для подачи его потом в нейронную сеть\n",
    "data = [{\n",
    "    'train': r'C:\\Users\\Wdtum\\OneDrive\\Рабочий стол\\data_yolo\\train\\images',\n",
    "    'val': r'C:\\Users\\Wdtum\\OneDrive\\Рабочий стол\\data_yolo\\val\\images',\n",
    "    'nc': 27,\n",
    "    'names': ['Albacore','Bigeye tuna', 'Black marlin', 'Blue marlin', 'Great barracuda',\n",
    " 'Human', 'Indo Pacific sailfish', 'Lancetfish','Long snouted lancetfish',\n",
    " 'Mahi mahi' ,'Marlin' ,'No fish' ,'Oilfish', 'Opah', 'Pelagic stingray',\n",
    " 'Rainbow runner', 'Shark', 'Shortbill spearfish', 'Sickle pomfret',\n",
    " 'Skipjack tuna', 'Striped marlin', 'Swordfish', 'Thresher shark',\n",
    " 'Unknown fish', 'Wahoo', 'White margate', 'Yellowfin tuna']\n",
    "}]"
   ]
  },
  {
   "cell_type": "code",
   "execution_count": 194,
   "id": "64028792",
   "metadata": {},
   "outputs": [],
   "source": [
    "def write_yaml_to_file(py_obj, filename) :\n",
    "    with open(f'{filename}.yaml', 'w+',) as f:\n",
    "        yaml.dump_all(py_obj, f, sort_keys=False)\n",
    "write_yaml_to_file(data, 'yolo')"
   ]
  },
  {
   "cell_type": "code",
   "execution_count": null,
   "id": "24ea6bbf",
   "metadata": {},
   "outputs": [],
   "source": []
  }
 ],
 "metadata": {
  "kernelspec": {
   "display_name": "Python 3 (ipykernel)",
   "language": "python",
   "name": "python3"
  },
  "language_info": {
   "codemirror_mode": {
    "name": "ipython",
    "version": 3
   },
   "file_extension": ".py",
   "mimetype": "text/x-python",
   "name": "python",
   "nbconvert_exporter": "python",
   "pygments_lexer": "ipython3",
   "version": "3.9.13"
  }
 },
 "nbformat": 4,
 "nbformat_minor": 5
}
